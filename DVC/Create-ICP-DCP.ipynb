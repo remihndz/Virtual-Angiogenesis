{
 "cells": [
  {
   "cell_type": "code",
   "execution_count": 1,
   "metadata": {},
   "outputs": [],
   "source": [
    "import numpy as np\n",
    "from scipy.spatial import voronoi_plot_2d, Voronoi, Delaunay, delaunay_plot_2d\n",
    "import networkx as nx\n",
    "import matplotlib.pyplot as plt\n",
    "%matplotlib qt\n",
    "import sys\n",
    "sys.path.append(\"/home/remi/Macular-Oxygenation/Oxygen-Voxel-Method/src/\")\n",
    "from VascularNetwork import VascularNetwork as VN\n",
    "CreateGraph = VN.CreateGraph"
   ]
  },
  {
   "cell_type": "code",
   "execution_count": 2,
   "metadata": {},
   "outputs": [],
   "source": [
    "def GraphToCCO(CCOFileName : str, G : nx.DiGraph, **kwargs):\n",
    "    \n",
    "    # Various tree info in the header of the CCO file\n",
    "    qProx = kwargs.get('qProx', 2.5000000000000001e-04) # 15 microliter/min in cm3/s, probably\n",
    "    psiFactor = kwargs.get('psiFactor', 9.6040000000001100e-06) # Not sure what that does\n",
    "    dp = kwargs.get('dp', 9.5453193691098149e+03) # Pressure drop from the single inlet to all outlet vessels, in Pa\n",
    "    refPressure = kwargs.get('refPressure', 6.6661199999999999e+03) # Occular perfusion pressure, 50mmHg in Pa\n",
    "    nTerms = 2\n",
    "\n",
    "    radiusCRA = G[0][1]['radius']\n",
    "\n",
    "    with open(CCOFileName, 'w') as f:\n",
    "        f.write('*Tree\\n')\n",
    "        x = G.nodes[0]['position']\n",
    "        f.write(f\"{x[0]} {x[1]} {x[2]} {qProx} {psiFactor} {dp} {nTerms} {refPressure} {G.number_of_nodes()} {radiusCRA} {1e-6}\\n\")\n",
    "\n",
    "        f.write('\\n*Vessels\\n')\n",
    "        f.write(f\"{G.number_of_edges()}\\n\")\n",
    "        for n1, n2, data in G.edges(data=True):\n",
    "            xProx, xDist = G.nodes[n1]['position'], G.nodes[n2]['position']\n",
    "            branchingMode = 2 if data['key']==0 else 2 # If the root, then bifurcates at distal end only, else deformable parent\n",
    "            vesselFunction = 0 # Distribution vessel, bifurcates in the domain only\n",
    "            f.write(f\"{data['key']} {xProx[0]} {xProx[1]} {xProx[2]} {xDist[0]} {xDist[1]} {xDist[2]}\")\n",
    "            f.write(f\"0.0 0.0 0.0 0.0 {branchingMode} {data['radius']} {qProx} 0.0 0.0 0.0 {vesselFunction} 0.0 0.0 -1\\n\")\n",
    "\n",
    "        f.write('\\n*Connectivity')\n",
    "        for n1, n2, data in G.edges(data=True):\n",
    "            f.write('\\n')\n",
    "\n",
    "            # Sanity check\n",
    "            parent = G.predecessors(n1)\n",
    "            assert sum(1 for _ in parent) <= 1, f'Oops... Something went wrong, more than 1 parent was found {parent=}.'\n",
    "            descendents = G.successors(n2) \n",
    "            assert sum(1 for _ in descendents) <= 2, f'Oops... Something went wrong, more than 2 descendents were found {descendents=}.' \n",
    "            # End sanity check \n",
    "\n",
    "            parent = G.predecessors(n1)\n",
    "            descendents = G.successors(n2) \n",
    "            try: \n",
    "                parentKey = next(parent)\n",
    "            except:\n",
    "                parentKey = -1\n",
    "            f.write(f\"{data['key']} {parentKey}\")                    \n",
    "            \n",
    "            for descendent in descendents:\n",
    "                f.write(f\" {G[n2][descendent]['key']}\")"
   ]
  },
  {
   "cell_type": "code",
   "execution_count": 3,
   "metadata": {},
   "outputs": [
    {
     "name": "stdout",
     "output_type": "stream",
     "text": [
      "lengthConversion=10.0\n",
      "The tree has 4015 vessels.\n"
     ]
    }
   ],
   "source": [
    "G = CreateGraph('../Results-8-patients/Patient1/sim_1.cco', 'mm')"
   ]
  },
  {
   "cell_type": "code",
   "execution_count": 4,
   "metadata": {},
   "outputs": [
    {
     "name": "stdout",
     "output_type": "stream",
     "text": [
      "0.021358677843486894\n"
     ]
    }
   ],
   "source": [
    "for i,e in enumerate(G.edges()):\n",
    "    nParents = 0\n",
    "    currentEdge = e\n",
    "    while True and nParents < 6:\n",
    "        try:\n",
    "            currentEdge=next(G.predecessors(e[0]))\n",
    "            nParents+=1\n",
    "        except StopIteration:\n",
    "            break\n",
    "    nx.set_edge_attributes(G, {e:{'level':nParents}})\n",
    "\n",
    "print(max([r for _,_,r in G.edges.data('radius')]))\n"
   ]
  },
  {
   "cell_type": "code",
   "execution_count": 5,
   "metadata": {},
   "outputs": [
    {
     "name": "stdout",
     "output_type": "stream",
     "text": [
      "Creating 67 connections.\n"
     ]
    }
   ],
   "source": [
    "depth = np.mean([pos[-1] for n,pos in G.nodes.data('position')])-0.041 # mm\n",
    "newEdges = []\n",
    "newNodes = []\n",
    "removeEdges = []\n",
    "n = G.number_of_nodes()-1\n",
    "for n1,n2,r in G.edges.data('radius'):\n",
    "    if r<0.01: # Only larger arterioles dive to ICP\n",
    "        continue\n",
    "\n",
    "    r = np.random.random()\n",
    "    if r<0.2:\n",
    "        midPoint = (G.nodes[n1]['position']+G.nodes[n2]['position'])/2\n",
    "        level,l = G[n1][n2]['level'], G[n1][n2]['length']/2.0\n",
    "        \n",
    "        n+=1\n",
    "        newNodes.append((n, {'position':midPoint}))\n",
    "        newEdges.append((n1,n, {'radius':r, 'length':l, 'level':level}))\n",
    "        newEdges.append((n,n2,{'radius':r, 'length':l, 'level':level}))\n",
    "        removeEdges.append((n1,n2))\n",
    "        \n",
    "        n+=1\n",
    "        midPoint[2] = depth\n",
    "        newNodes.append((n,{'position':midPoint}))\n",
    "        newEdges.append((n-1,n,{'radius':r, 'length':depth, 'level':level+1, 'type':'SVP-ICP'}))\n",
    "\n",
    "print(f\"Creating {len(removeEdges)} connections.\")\n",
    "\n",
    "G.add_nodes_from(newNodes)\n",
    "G.add_edges_from(newEdges)        \n",
    "G.remove_edges_from(removeEdges)"
   ]
  },
  {
   "cell_type": "code",
   "execution_count": 6,
   "metadata": {},
   "outputs": [
    {
     "data": {
      "text/plain": [
       "<matplotlib.collections.PathCollection at 0x7f7c58f1f820>"
      ]
     },
     "execution_count": 6,
     "metadata": {},
     "output_type": "execute_result"
    }
   ],
   "source": [
    "nx.draw_networkx_nodes(G, pos={n:pos[:2] for n,pos in G.nodes(data='position')},\n",
    "                       nodelist=[n[0] for n in newNodes[::2]], node_size=10)"
   ]
  },
  {
   "cell_type": "code",
   "execution_count": 7,
   "metadata": {},
   "outputs": [],
   "source": [
    "points = np.array([pos[:2] for n,pos in G.nodes.data('position') if pos[-1]<0 ])\n",
    "vor = Voronoi(points)\n",
    "fig = voronoi_plot_2d(vor)\n",
    "plt.show()"
   ]
  },
  {
   "cell_type": "code",
   "execution_count": 8,
   "metadata": {},
   "outputs": [],
   "source": [
    "points = np.array([pos[:2] for n,pos in G.nodes.data('position') if pos[-1]<0 ])\n",
    "delau = Delaunay(points)\n",
    "fig = delaunay_plot_2d(delau)\n",
    "plt.show()"
   ]
  },
  {
   "cell_type": "code",
   "execution_count": 9,
   "metadata": {},
   "outputs": [
    {
     "data": {
      "text/plain": [
       "<matplotlib.collections.LineCollection at 0x7f7c5875e410>"
      ]
     },
     "execution_count": 9,
     "metadata": {},
     "output_type": "execute_result"
    }
   ],
   "source": [
    "### Compute Voronoi from Delaunay triangulation (e.g., center of the triangles circumcircle)\n",
    "p = delau.points[delau.vertices]\n",
    "# Triangle vertices\n",
    "A = p[:,0,:].T\n",
    "B = p[:,1,:].T\n",
    "C = p[:,2,:].T\n",
    "\n",
    "# See http://en.wikipedia.org/wiki/Circumscribed_circle#Circumscribed_circles_of_triangles\n",
    "# The following is just a direct transcription of the formula there\n",
    "a = A - C\n",
    "b = B - C\n",
    "\n",
    "def dot2(u, v):\n",
    "    return u[0]*v[0] + u[1]*v[1]\n",
    "\n",
    "def cross2(u, v, w):\n",
    "    \"\"\"u x (v x w)\"\"\"\n",
    "    return dot2(u, w)*v - dot2(u, v)*w\n",
    "\n",
    "def ncross2(u, v):\n",
    "    \"\"\"|| u x v ||^2\"\"\"\n",
    "    return sq2(u)*sq2(v) - dot2(u, v)**2\n",
    "\n",
    "def sq2(u):\n",
    "    return dot2(u, u)\n",
    "\n",
    "cc = cross2(sq2(a) * b - sq2(b) * a, a, b) / (2*ncross2(a, b)) + C\n",
    "# Grab the Voronoi edges\n",
    "vc = cc[:,delau.neighbors]\n",
    "vc[:,delau.neighbors == -1] = np.nan # edges at infinity, plotting those would need more work...\n",
    "\n",
    "lines = []\n",
    "lines.extend(zip(cc.T, vc[:,:,0].T))\n",
    "lines.extend(zip(cc.T, vc[:,:,1].T))\n",
    "lines.extend(zip(cc.T, vc[:,:,2].T))\n",
    "\n",
    "from matplotlib.collections import LineCollection\n",
    "lines = LineCollection(lines, edgecolor='k')\n",
    "\n",
    "fig = delaunay_plot_2d(delau)\n",
    "ax = fig.get_axes()\n",
    "ax[0].scatter(*cc, c='red')\n",
    "plt.gca().add_collection(lines)"
   ]
  },
  {
   "cell_type": "code",
   "execution_count": 10,
   "metadata": {},
   "outputs": [],
   "source": [
    "radiusFAZ_ICP = 0.4 # mm\n",
    "#penetratingArterioles = np.array([pos[:2] for n,pos in G.nodes.data('position') if pos[-1]<0 ])\n",
    "penetratingArterioles = np.array([n[1]['position'][:2] for n in newNodes[::2]])\n",
    "theta = np.random.random(50) * np.pi*2\n",
    "fazContour = np.array([radiusFAZ_ICP*np.cos(theta), radiusFAZ_ICP*np.sin(theta)]).T\n",
    "\n",
    "vor = Voronoi(penetratingArterioles, incremental=True)\n",
    "vor.add_points(fazContour)\n",
    "fig = voronoi_plot_2d(vor)\n",
    "plt.show()"
   ]
  },
  {
   "cell_type": "code",
   "execution_count": 11,
   "metadata": {},
   "outputs": [
    {
     "data": {
      "text/plain": [
       "<matplotlib.collections.LineCollection at 0x7f7c4bb0c5b0>"
      ]
     },
     "execution_count": 11,
     "metadata": {},
     "output_type": "execute_result"
    }
   ],
   "source": [
    "newVertices = vor.vertices[np.logical_and(np.linalg.norm(vor.vertices, axis=1)<2.0, np.linalg.norm(vor.vertices, axis=1)>radiusFAZ_ICP)]\n",
    "\n",
    "fig, ax = plt.subplots()\n",
    "ax.scatter(*newVertices.T, s=5)\n",
    "ax.scatter(*points.T, c='k', s=5)\n",
    "\n",
    "lines = vor.points[vor.ridge_points]\n",
    "availableConnections = newVertices\n",
    "otherLines = np.array([[p,newVertices[np.argmin(np.linalg.norm(p[:2]-newVertices, axis=1))]] \n",
    "                         for p in penetratingArterioles])\n",
    "\n",
    "lines = np.dstack((lines.T, otherLines.T)).T\n",
    "\n",
    "lines = LineCollection(lines)\n",
    "ax.add_collection(lines)"
   ]
  },
  {
   "cell_type": "code",
   "execution_count": 12,
   "metadata": {},
   "outputs": [
    {
     "data": {
      "text/plain": [
       "<matplotlib.legend.Legend at 0x7f7c58108c70>"
      ]
     },
     "execution_count": 12,
     "metadata": {},
     "output_type": "execute_result"
    }
   ],
   "source": [
    "connectingVeins = np.random.random(size=penetratingArterioles.shape)*3.0-1.5\n",
    "plt.scatter(*penetratingArterioles.T)\n",
    "plt.scatter(*connectingVeins.T)\n",
    "\n",
    "plt.legend(['Connecting arterioles', 'Connecting veins'])"
   ]
  },
  {
   "cell_type": "code",
   "execution_count": 13,
   "metadata": {},
   "outputs": [
    {
     "data": {
      "text/plain": [
       "<matplotlib.legend.Legend at 0x7f7c4af31630>"
      ]
     },
     "execution_count": 13,
     "metadata": {},
     "output_type": "execute_result"
    }
   ],
   "source": [
    "ICP = nx.Graph()\n",
    "ICP.add_nodes_from([(n, {'position':np.append(vor.points[n][:2],depth), 'type':'art'}) for n in vor.ridge_points.ravel() if np.linalg.norm(vor.points[n])>=0*radiusFAZ_ICP])\n",
    "ICP.add_nodes_from([(n, {'position':np.append(vor.vertices[n][:2],depth), 'type':'cap'}) for n in np.array(vor.ridge_vertices).ravel() if np.linalg.norm(vor.vertices[n][:2])<1.5])\n",
    "ICP.add_nodes_from([(f'v{i}', {'position':np.append(v[:2],depth), 'type':'vei'}) for i,v in enumerate(connectingVeins)])\n",
    "\n",
    "fig, ax = plt.subplots(figsize=(9,6))\n",
    "nx.draw_networkx(ICP, pos={n:pos[:2] for n,pos in ICP.nodes(data='position')}, \n",
    "                 node_color=['r' if t=='art' else 'b' if t=='cap' else 'g' for n,t in ICP.nodes.data('type')],\n",
    "                 node_size=10, with_labels=False, ax=ax)\n",
    "\n",
    "import matplotlib.patches as mpatches\n",
    "plt.legend(handles=[mpatches.Patch(color='r', label='Connecting arterioles'),\n",
    "                    mpatches.Patch(color='b', label='Capillary nodes'),\n",
    "                    mpatches.Patch(color='g', label='Connecting venules')])"
   ]
  },
  {
   "cell_type": "code",
   "execution_count": 14,
   "metadata": {},
   "outputs": [
    {
     "data": {
      "text/plain": [
       "<matplotlib.legend.Legend at 0x7f7c4af9f340>"
      ]
     },
     "execution_count": 14,
     "metadata": {},
     "output_type": "execute_result"
    }
   ],
   "source": [
    "ICP.add_edges_from((i[0],i[1]) for i in vor.ridge_points if (ICP.has_node(i[0]) and ICP.has_node(i[1])))\n",
    "fig, ax = plt.subplots(figsize=(9,6))\n",
    "nx.draw_networkx(ICP, pos={n:pos[:2] for n,pos in ICP.nodes(data='position', default=np.array([-2,-2]))}, \n",
    "                 node_color=['r' if t=='art' else 'b' if t=='cap' else 'g' if t=='vei' else 'k' for n,t in ICP.nodes.data('type')],\n",
    "                 node_size=10, with_labels=False, ax=ax)\n",
    "\n",
    "import matplotlib.patches as mpatches\n",
    "plt.legend(handles=[mpatches.Patch(color='r', label='Connecting arterioles'),\n",
    "                    mpatches.Patch(color='b', label='Capillary nodes'),\n",
    "                    mpatches.Patch(color='g', label='Connecting venules')])"
   ]
  },
  {
   "cell_type": "code",
   "execution_count": 15,
   "metadata": {},
   "outputs": [
    {
     "name": "stdout",
     "output_type": "stream",
     "text": [
      "[ 3 13] {3: {}, 9: {}, 10: {}, 38: {}, 39: {}, 1: {}}\n"
     ]
    }
   ],
   "source": [
    "print(vor.ridge_points[0], ICP[0])"
   ]
  },
  {
   "cell_type": "code",
   "execution_count": 16,
   "metadata": {},
   "outputs": [],
   "source": [
    "n = 30\n",
    "theta = np.random.random(n)*np.pi*2\n",
    "r = np.sqrt(np.random.random(n)) * (1.5-radiusFAZ_ICP) + radiusFAZ_ICP\n",
    "points = np.array([r*np.cos(theta), r*np.sin(theta)]).T\n",
    "vor = Voronoi(points)\n",
    "fig = voronoi_plot_2d(vor)"
   ]
  },
  {
   "cell_type": "code",
   "execution_count": 17,
   "metadata": {},
   "outputs": [
    {
     "name": "stdout",
     "output_type": "stream",
     "text": [
      "{'art': 15, 'cap': 17, 'vei': 15}\n"
     ]
    },
    {
     "data": {
      "text/plain": [
       "<matplotlib.legend.Legend at 0x7f7c4aba36d0>"
      ]
     },
     "execution_count": 17,
     "metadata": {},
     "output_type": "execute_result"
    }
   ],
   "source": [
    "ICP = nx.Graph()\n",
    "\n",
    "pointsID = np.unique(vor.ridge_points)\n",
    "vei = pointsID.tolist()\n",
    "art = [vei.pop(np.random.randint(0, len(vei))) for _ in range(int(len(pointsID)/2))]\n",
    "\n",
    "ICP.add_nodes_from([(n, {'position':vor.points[n], 'type':'art'}) for n in art])\n",
    "ICP.add_nodes_from([(n, {'position':vor.points[n], 'type':'vei'}) for n in vei])\n",
    "ICP.add_nodes_from([(n, {'position':vor.vertices[n], 'type':'cap'}) \n",
    "                     for n in np.array(vor.ridge_vertices).ravel() \n",
    "                     if (np.linalg.norm(vor.vertices[n])<2 and not ICP.has_node(n))])\n",
    "\n",
    "count = {'art':0, 'cap':0, 'vei':0}\n",
    "for n,t in ICP.nodes.data('type'):\n",
    "    count[t]+=1\n",
    "print(count)\n",
    "\n",
    "nx.draw_networkx(ICP, pos={n:pos[:2] for n,pos in ICP.nodes(data='position')}, \n",
    "                 node_color=['r' if t=='art' else 'b' if t=='cap' else 'g' if t=='vei' else 'k' for n,t in ICP.nodes.data('type')],\n",
    "                 node_size=10, with_labels=False)\n",
    "\n",
    "import matplotlib.patches as mpatches\n",
    "plt.legend(handles=[mpatches.Patch(color='r', label='Connecting arterioles'),\n",
    "                    mpatches.Patch(color='b', label='Capillary nodes'),\n",
    "                    mpatches.Patch(color='g', label='Connecting venules')])\n"
   ]
  },
  {
   "cell_type": "code",
   "execution_count": 18,
   "metadata": {},
   "outputs": [
    {
     "data": {
      "text/plain": [
       "<matplotlib.legend.Legend at 0x7f7c4abc91b0>"
      ]
     },
     "execution_count": 18,
     "metadata": {},
     "output_type": "execute_result"
    }
   ],
   "source": [
    "capPos = np.array([np.append(data['position'],n) for n,data in ICP.nodes(data=True) if data['type']=='cap'])\n",
    "edges = []\n",
    "for n,data in ICP.nodes.data(True):\n",
    "    if data['type'] == 'cap':\n",
    "        continue\n",
    "    pos = data['position']\n",
    "    closestCapId = np.argmin(np.linalg.norm(capPos[:,:2]-pos, axis=1))\n",
    "\n",
    "    if data['type']=='art':\n",
    "        edges.append((n, capPos[closestCapId,-1]))\n",
    "    else:\n",
    "        edges.append((capPos[closestCapId,-1], n))\n",
    "\n",
    "    # capPos = np.delete(capPos, closestCapId, axis=0)   \n",
    "\n",
    "ICP.add_edges_from(edges)\n",
    "\n",
    "nx.draw_networkx(ICP, pos={n:pos[:2] for n,pos in ICP.nodes(data='position')}, \n",
    "                 node_color=['r' if t=='art' else 'b' if t=='cap' else 'g' if t=='vei' else 'k' for n,t in ICP.nodes.data('type')],\n",
    "                 node_size=10, with_labels=False)\n",
    "\n",
    "import matplotlib.patches as mpatches\n",
    "plt.legend(handles=[mpatches.Patch(color='r', label='Connecting arterioles'),\n",
    "                    mpatches.Patch(color='b', label='Capillary nodes'),\n",
    "                    mpatches.Patch(color='g', label='Connecting venules')])\n"
   ]
  },
  {
   "cell_type": "code",
   "execution_count": 19,
   "metadata": {},
   "outputs": [],
   "source": [
    "n = 5\n",
    "r = np.sqrt(np.random.random(n)) * (1.5-radiusFAZ_ICP) + radiusFAZ_ICP\n",
    "theta = np.random.random(n)*np.pi*2\n",
    "art = np.array([r*np.cos(theta), r*np.sin(theta)]).T\n",
    "\n",
    "r = np.sqrt(np.random.random(n)) * (1.5-radiusFAZ_ICP) + radiusFAZ_ICP\n",
    "theta = np.random.random(n)*np.pi*2\n",
    "vei = np.array([r*np.cos(theta), r*np.sin(theta)]).T\n",
    "\n",
    "tri = Delaunay(np.vstack((art, vei)))\n",
    "fig = delaunay_plot_2d(tri)"
   ]
  },
  {
   "cell_type": "code",
   "execution_count": 20,
   "metadata": {},
   "outputs": [],
   "source": [
    "def compute_triangle_circumcenters(xy_pts, tri_arr):\n",
    "    \"\"\"\n",
    "    Compute the centers of the circumscribing circle of each triangle in a triangulation.\n",
    "    :param np.array xy_pts : points array of shape (n, 2)\n",
    "    :param np.array tri_arr : triangles array of shape (m, 3), each row is a triple of indices in the xy_pts array\n",
    "\n",
    "    :return: circumcenter points array of shape (m, 2)\n",
    "    \"\"\"\n",
    "    tri_pts = xy_pts[tri_arr]  # (m, 3, 2) - triangles as points (not indices)\n",
    "\n",
    "    # finding the circumcenter (x, y) of a triangle defined by three points:\n",
    "    # (x-x0)**2 + (y-y0)**2 = (x-x1)**2 + (y-y1)**2\n",
    "    # (x-x0)**2 + (y-y0)**2 = (x-x2)**2 + (y-y2)**2\n",
    "    #\n",
    "    # becomes two linear equations (squares are canceled):\n",
    "    # 2(x1-x0)*x + 2(y1-y0)*y = (x1**2 + y1**2) - (x0**2 + y0**2)\n",
    "    # 2(x2-x0)*x + 2(y2-y0)*y = (x2**2 + y2**2) - (x0**2 + y0**2)\n",
    "    a = 2 * (tri_pts[:, 1, 0] - tri_pts[:, 0, 0])\n",
    "    b = 2 * (tri_pts[:, 1, 1] - tri_pts[:, 0, 1])\n",
    "    c = 2 * (tri_pts[:, 2, 0] - tri_pts[:, 0, 0])\n",
    "    d = 2 * (tri_pts[:, 2, 1] - tri_pts[:, 0, 1])\n",
    "\n",
    "    v1 = (tri_pts[:, 1, 0] ** 2 + tri_pts[:, 1, 1] ** 2) - (tri_pts[:, 0, 0] ** 2 + tri_pts[:, 0, 1] ** 2)\n",
    "    v2 = (tri_pts[:, 2, 0] ** 2 + tri_pts[:, 2, 1] ** 2) - (tri_pts[:, 0, 0] ** 2 + tri_pts[:, 0, 1] ** 2)\n",
    "\n",
    "    # solve 2x2 system (see https://en.wikipedia.org/wiki/Invertible_matrix#Inversion_of_2_%C3%97_2_matrices)\n",
    "    det = (a * d - b * c)\n",
    "    detx = (v1 * d - v2 * b)\n",
    "    dety = (a * v2 - c * v1)\n",
    "\n",
    "    x = detx / det\n",
    "    y = dety / det\n",
    "\n",
    "    return (np.vstack((x, y))).T"
   ]
  },
  {
   "cell_type": "code",
   "execution_count": 21,
   "metadata": {},
   "outputs": [],
   "source": [
    "# n = 100\n",
    "# theta = np.random.random(n+1)*np.pi*2\n",
    "# r = np.sqrt(np.random.random(n+1)) * (1.5-radiusFAZ_ICP) + radiusFAZ_ICP\n",
    "# r[-1] = 0 \n",
    "# points = np.array([r*np.cos(theta), r*np.sin(theta)]).T\n",
    "ntheta, nr = 30, 10\n",
    "theta = np.linspace(0, np.pi*2, ntheta)\n",
    "r = np.sqrt(np.linspace(0,1, nr)) * (1.5-radiusFAZ_ICP) + radiusFAZ_ICP\n",
    "u,v = np.meshgrid(theta, r)\n",
    "u = u.flatten()\n",
    "v = v.flatten()\n",
    "x=v*np.cos(u)\n",
    "y=v*np.sin(u)\n",
    "points = np.vstack((np.vstack([x,y]).T, (0,0)))\n",
    "tri = Delaunay(points)\n",
    "fig = delaunay_plot_2d(tri)"
   ]
  },
  {
   "cell_type": "code",
   "execution_count": 114,
   "metadata": {},
   "outputs": [
    {
     "name": "stdout",
     "output_type": "stream",
     "text": [
      "300 [0. 0.] 291\n"
     ]
    }
   ],
   "source": [
    "ICP = nx.Graph()\n",
    "for path in tri.simplices:\n",
    "    nx.add_path(ICP, path, radius=5e-3)\n",
    "nx.set_node_attributes(ICP, {n:\n",
    "                             {'position':points[n], 'type':'cap'} \n",
    "                             for n in ICP.nodes()})\n",
    "for n, pos in ICP.nodes.data('position'):\n",
    "    if np.allclose(pos,np.zeros(2)):\n",
    "        print(n, pos, ICP.number_of_nodes())\n",
    "        ICP.remove_node(n)\n",
    "        break\n",
    "#ICP.remove_node(ICP.number_of_nodes()-1) # delete the (0,0) node\n",
    "\n",
    "def PlotGraphICP(graph):\n",
    "    fig, ax = plt.subplots(figsize=(9,6))\n",
    "    nx.draw_networkx(graph, pos={n:pos[:2] for n,pos in graph.nodes(data='position', default=np.array([-2,-2]))}, \n",
    "                    node_color=['r' if t=='art' else 'b' if t=='cap' else 'g' if t=='vei' else 'k' for n,t in graph.nodes.data('type')],\n",
    "                    node_size=10, with_labels=False, ax=ax)\n",
    "\n",
    "    import matplotlib.patches as mpatches\n",
    "    plt.legend(handles=[mpatches.Patch(color='r', label='Connecting arterioles'),\n",
    "                        mpatches.Patch(color='b', label='Capillary nodes'),\n",
    "                        mpatches.Patch(color='g', label='Connecting venules')])\n",
    "    plt.show()\n",
    "\n",
    "PlotGraphICP(ICP)"
   ]
  },
  {
   "cell_type": "code",
   "execution_count": 115,
   "metadata": {},
   "outputs": [],
   "source": [
    "## The connecting points\n",
    "n = 10\n",
    "theta = np.random.random(n)*np.pi*2\n",
    "#r = np.sqrt(np.random.random(n)) * (1.5-radiusFAZ_ICP) + radiusFAZ_ICP\n",
    "r = np.sqrt(np.random.random(n))+1.5\n",
    "art = np.array([r*np.cos(theta), r*np.sin(theta)]).T\n",
    "\n",
    "theta = np.random.random(n)*np.pi*2\n",
    "#r = np.sqrt(np.random.random(n)) * (1.5-radiusFAZ_ICP) + radiusFAZ_ICP\n",
    "r = np.sqrt(np.random.random(n))+1.5\n",
    "vei = np.array([r*np.cos(theta), r*np.sin(theta)]).T\n",
    "\n",
    "ICP.add_nodes_from((f'a{i}', {'position':art[i], 'type':'art'}) for i in range(art.shape[0]))\n",
    "ICP.add_nodes_from((f'v{i}', {'position':vei[i], 'type':'vei'}) for i in range(vei.shape[0]))\n",
    "\n",
    "PlotGraphICP(ICP)"
   ]
  },
  {
   "cell_type": "code",
   "execution_count": 116,
   "metadata": {},
   "outputs": [],
   "source": [
    "availableConnections = [np.append(data['position'],n) for n,data in ICP.nodes.data(True) if data['type']=='cap']\n",
    "for n,pos in ((n,data['position']) for n,data in ICP.nodes.data(True) if data['type']!='cap'):\n",
    "    closestCapId = np.argmin(np.linalg.norm(pos-np.array(availableConnections)[:,:2], axis=1))\n",
    "    closestCap = availableConnections.pop(closestCapId)[-1]\n",
    "\n",
    "    ICP.add_edge(n, closestCap)\n",
    "    \n",
    "PlotGraphICP(ICP)"
   ]
  },
  {
   "cell_type": "code",
   "execution_count": 117,
   "metadata": {},
   "outputs": [],
   "source": [
    "## Create a physiological path \n",
    "G = nx.DiGraph(nx.convert_node_labels_to_integers(ICP)) # Copy the graph\n",
    "\n",
    "artNodes = [n for n,t in G.nodes.data('type') if t=='art']\n",
    "capNodes = [n for n,t in G.nodes.data('type') if t=='cap']\n",
    "veiNodes = [n for n,t in G.nodes.data('type') if t=='vei']\n",
    "\n",
    "newLabelsForDAG = {n:k for k,n in enumerate([*artNodes, *capNodes, *veiNodes])}\n",
    "G = nx.relabel_nodes(G, newLabelsForDAG)\n",
    "orientedEdges = [(n1,n2,d) if n1<n2 else (n2,n1,d) for n1,n2,d in G.edges(data=True)]\n",
    "G.clear_edges()\n",
    "G.add_edges_from(orientedEdges)\n",
    "\n",
    "PlotGraphICP(G)"
   ]
  },
  {
   "cell_type": "code",
   "execution_count": 118,
   "metadata": {},
   "outputs": [
    {
     "name": "stdout",
     "output_type": "stream",
     "text": [
      "Number of edges before trimming:  818\n",
      "Number of edges after trimming:  375\n",
      "nx.is_directed_acyclic_graph(G)=True\n"
     ]
    }
   ],
   "source": [
    "## Remove edges where nodes have in or out degree > 3\n",
    "## (vessels trifurcate a most). Next step might add \n",
    "## connections so we need all nodes with at most 2\n",
    "## neighbors in each direction.\n",
    "print(\"Number of edges before trimming: \", G.number_of_edges())\n",
    "capNodes = [n for n,t in G.nodes.data('type') if t=='cap']\n",
    "for n in capNodes:\n",
    "    while G.out_degree(n)>2:\n",
    "        G.remove_edge(n, np.random.choice(list(G.successors(n))))\n",
    "    while G.in_degree(n)>2:\n",
    "        G.remove_edge(np.random.choice(list(G.predecessors(n))), n)\n",
    "print(\"Number of edges after trimming: \", G.number_of_edges())\n",
    "print(f'{nx.is_directed_acyclic_graph(G)=}')"
   ]
  },
  {
   "cell_type": "code",
   "execution_count": 119,
   "metadata": {},
   "outputs": [
    {
     "name": "stdout",
     "output_type": "stream",
     "text": [
      "nx.is_directed_acyclic_graph(G)=True\n"
     ]
    }
   ],
   "source": [
    "## Connect capillaries with in or out degree zero\n",
    "for n in capNodes:\n",
    "    if G.out_degree(n)==0:\n",
    "        # Potential links that don't add cycles are \n",
    "        # nodes after the current node\n",
    "        # in the topological ordering. \n",
    "        # Note this assumes the nodes are labelled\n",
    "        # in topological order.\n",
    "        locs = np.array([np.append(pos, node) \n",
    "                         for node, pos in G.nodes.data('position') \n",
    "                         if (node>n and \n",
    "                             (G.in_degree(node)<3 \n",
    "                              or G.nodes[node]['type']=='vei'))])\n",
    "        candidateId = locs[np.argmin( # Pick the closest one\n",
    "            np.linalg.norm(G.nodes[n]['position']-locs[:,:2],axis=1)), -1]\n",
    "        G.add_edge(n, int(candidateId))\n",
    "\n",
    "    if G.in_degree(n)==0:\n",
    "        # Potential links are nodes that appear \n",
    "        # before n in the topological ordering.\n",
    "        locs = np.array([np.append(pos, node) \n",
    "                         for node, pos in G.nodes.data('position') \n",
    "                         if (node<n and \n",
    "                             (G.out_degree(node)<3 \n",
    "                              or G.nodes[node]['type']=='art'))])\n",
    "        candidateId = locs[np.argmin( # Pick the closest one\n",
    "            np.linalg.norm(G.nodes[n]['position']-locs[:,:2],axis=1)), -1]\n",
    "        G.add_edge(int(candidateId), n)\n",
    "print(f'{nx.is_directed_acyclic_graph(G)=}')"
   ]
  },
  {
   "cell_type": "code",
   "execution_count": 120,
   "metadata": {},
   "outputs": [
    {
     "name": "stdout",
     "output_type": "stream",
     "text": [
      "nx.is_directed_acyclic_graph(G)=True\n"
     ]
    }
   ],
   "source": [
    "## Previous step may have left veins or arteries dangling\n",
    "artNodes = [n for n,t in G.nodes.data('type') if t=='art']\n",
    "capNodes = [n for n,t in G.nodes.data('type') if t=='cap']\n",
    "veiNodes = [n for n,t in G.nodes.data('type') if t=='vei']\n",
    "\n",
    "for n in artNodes:\n",
    "    if G.out_degree(n)==0:\n",
    "        locs = np.array([np.append(pos, node)\n",
    "                         for node,pos in G.nodes.data('position')\n",
    "                         if (node in capNodes \n",
    "                             and G.in_degree(node)<3)])\n",
    "        candidateId = locs[np.argmin( # Pick the closest one\n",
    "            np.linalg.norm(G.nodes[n]['position']-locs[:,:2],axis=1)), -1]\n",
    "        G.add_edge(n, int(candidateId))\n",
    "\n",
    "for n in veiNodes:\n",
    "    if G.in_degree(n)==0:\n",
    "        locs = np.array([np.append(pos, node)\n",
    "                         for node,pos in G.nodes.data('position')\n",
    "                         if (node in capNodes \n",
    "                             and G.out_degree(node)<3)])\n",
    "        candidateId = locs[np.argmin( # Pick the closest one\n",
    "            np.linalg.norm(G.nodes[n]['position']-locs[:,:2],axis=1)), -1]\n",
    "        G.add_edge(int(candidateId), n)\n",
    "\n",
    "print(f'{nx.is_directed_acyclic_graph(G)=}')"
   ]
  },
  {
   "cell_type": "code",
   "execution_count": 121,
   "metadata": {},
   "outputs": [
    {
     "name": "stdout",
     "output_type": "stream",
     "text": [
      "481 310\n",
      "{0: 0, 1: 151, 2: 103, 3: 36, 4: 0} {0: 0, 1: 144, 2: 113, 3: 33, 4: 0}\n",
      "nx.is_directed_acyclic_graph(G)=True\n"
     ]
    }
   ],
   "source": [
    "## Count furcations of capillaries\n",
    "print(G.number_of_edges(), G.number_of_nodes())\n",
    "\n",
    "furcOut = {0:0, 1:0, 2:0, 3:0, 4:0}\n",
    "furcIn = {0:0, 1:0, 2:0, 3:0, 4:0}\n",
    "for n in (n for n,t in G.nodes.data('type') if t=='cap'):\n",
    "    outdeg = G.out_degree(n)\n",
    "    k = min(outdeg, 4)\n",
    "    furcOut[k]+=1\n",
    "\n",
    "    indeg = G.in_degree(n)\n",
    "    k = min(indeg, 4)\n",
    "    furcIn[k]+=1\n",
    "\n",
    "print(furcIn, furcOut)\n",
    "PlotGraphICP(G)\n",
    "\n",
    "print(f'{nx.is_directed_acyclic_graph(G)=}')"
   ]
  },
  {
   "attachments": {},
   "cell_type": "markdown",
   "metadata": {},
   "source": [
    "## Link SVP and ICP"
   ]
  },
  {
   "cell_type": "code",
   "execution_count": 130,
   "metadata": {},
   "outputs": [
    {
     "name": "stdout",
     "output_type": "stream",
     "text": [
      "lengthConversion=10.0\n",
      "The tree has 4015 vessels.\n",
      "nx.is_directed_acyclic_graph(GSVP)=True\n"
     ]
    }
   ],
   "source": [
    "nx.set_node_attributes(G, {n: {'position':np.append(pos[:2], depth)} for n,pos in G.nodes.data('position')})\n",
    "GSVP = CreateGraph('../Results-8-patients/Patient1/sim_1.cco', 'mm')\n",
    "print(f'{nx.is_directed_acyclic_graph(GSVP)=}')"
   ]
  },
  {
   "cell_type": "code",
   "execution_count": 131,
   "metadata": {},
   "outputs": [],
   "source": [
    "def FindClosestNode(graph, nodePosition, \n",
    "                    condition=lambda graph,n: True):\n",
    "    '''\n",
    "    Returns the node in graph that is closest to \n",
    "    nodePosition and satisfy condition.\n",
    "    '''\n",
    "    positions = np.array([np.append(pos, node) \n",
    "                          for node,pos in graph.nodes.data('position')\n",
    "                          if condition(graph, node)])\n",
    "    return positions[np.argmin(\n",
    "        np.linalg.norm(positions[:,:-1]-nodePosition, axis=1)),-1]\n",
    "\n",
    "# Example use:\n",
    "# FindClosestNode(GSVP, np.zeros(3), lambda g,n: g.out_degree(n)<3)\n"
   ]
  },
  {
   "attachments": {},
   "cell_type": "markdown",
   "metadata": {},
   "source": [
    "### Arterial SVP tree to ICP "
   ]
  },
  {
   "cell_type": "code",
   "execution_count": 132,
   "metadata": {},
   "outputs": [
    {
     "name": "stdout",
     "output_type": "stream",
     "text": [
      "nx.is_directed_acyclic_graph(newGraph)=True\n"
     ]
    }
   ],
   "source": [
    "newGraph = nx.DiGraph(GSVP)\n",
    "newGraph.add_nodes_from([(f'ICP{n}', {'position':G.nodes[n]['position'], 'type':G.nodes[n]['type']}) for n in G.nodes])\n",
    "newGraph.add_edges_from([(f'ICP{n1}', f'ICP{n2}') for n1,n2 in G.edges])\n",
    "for n in artNodes:\n",
    "    closest = FindClosestNode(GSVP, G.nodes[n]['position'])\n",
    "    newGraph.add_edge(closest, f'ICP{n}')\n",
    "\n",
    "print(f'{nx.is_directed_acyclic_graph(newGraph)=}')"
   ]
  },
  {
   "attachments": {},
   "cell_type": "markdown",
   "metadata": {},
   "source": [
    "### Venous SVP tree to ICP"
   ]
  },
  {
   "cell_type": "code",
   "execution_count": 133,
   "metadata": {},
   "outputs": [
    {
     "name": "stdout",
     "output_type": "stream",
     "text": [
      "lengthConversion=10.0\n",
      "The tree has 3573 vessels.\n",
      "nx.is_directed_acyclic_graph(newGraph)=True\n"
     ]
    }
   ],
   "source": [
    "GSVP = CreateGraph('../Results-8-patients/Patient2/sim_1.cco', 'mm').reverse()\n",
    "\n",
    "for n in veiNodes:\n",
    "    closest = FindClosestNode(GSVP, G.nodes[n]['position'])\n",
    "    newGraph.add_edge(f'ICP{n}', closest)\n",
    "\n",
    "print(f'{nx.is_directed_acyclic_graph(newGraph)=}')"
   ]
  },
  {
   "cell_type": "code",
   "execution_count": 134,
   "metadata": {},
   "outputs": [],
   "source": [
    "%matplotlib qt\n",
    "\n",
    "\n",
    "pos = {n:pos for n,pos in newGraph.nodes.data('position')}\n",
    "node_xyz = np.array([pos[n] for n in nx.topological_sort(newGraph)])\n",
    "edge_xyz = np.array([(pos[u], pos[v]) for u,v in newGraph.edges()])\n",
    "\n",
    "\n",
    "fig = plt.figure()\n",
    "ax = fig.add_subplot(111, projection='3d')\n",
    "# Plot the nodes - alpha is scaled by \"depth\" automatically\n",
    "ax.scatter(*node_xyz.T, s=1, ec=\"w\")\n",
    "\n",
    "# Plot the edges\n",
    "for vizedge in edge_xyz:\n",
    "    ax.plot(*vizedge.T, color=\"tab:gray\")\n",
    "\n",
    "  \n",
    "def _format_axes(ax):\n",
    "    \"\"\"Visualization options for the 3D axes.\"\"\"\n",
    "    # Turn gridlines off\n",
    "    ax.grid(False)\n",
    "    # Suppress tick labels\n",
    "    for dim in (ax.xaxis, ax.yaxis, ax.zaxis):\n",
    "        dim.set_ticks([])\n",
    "    # Set axes labels\n",
    "    ax.set_xlabel(\"x\")\n",
    "    ax.set_ylabel(\"y\")\n",
    "    ax.set_zlabel(\"z\")\n",
    "\n",
    "\n",
    "_format_axes(ax)\n",
    "#ax.set_zscale('log')\n",
    "fig.tight_layout()\n",
    "plt.show()\n",
    "  "
   ]
  },
  {
   "cell_type": "code",
   "execution_count": 135,
   "metadata": {},
   "outputs": [
    {
     "name": "stdout",
     "output_type": "stream",
     "text": [
      "0.0\n",
      "-0.041\n"
     ]
    }
   ],
   "source": [
    "def DAGToCCO(G, CCOFileName):\n",
    "    if not nx.is_directed_acyclic_graph(G):\n",
    "        print (\"Graph is not directed acyclic. Aborting.\")\n",
    "        return \n",
    "    \n",
    "    vesselLine = lambda i,v: (f\"{i} \"\n",
    "                            \" \".join(str(xi) for x in G.nodes[v[0]]['position']) # Proximal end\n",
    "                            \" \"\n",
    "                            \" \".join(str(xi) for x in G.nodes[v[0]]['position']) # Distal end\n",
    "                            \" \"\n",
    "                            \" \".join('0.00' for _ in range(5))\n",
    "                            f\"{G[v[0]][v[1]]['radius']}\" # Radius\n",
    "                            \" \"\n",
    "                            \"0.00\" # Flow\n",
    "                            \" \"\n",
    "                            \" \".join('0.00' for _ in range(5))\n",
    "                            \" \"\n",
    "                            f\"{0}\") # Stage\n",
    "\n",
    "    # We need to store that ordering for the connectivity\n",
    "    edges = {i:e for i,e in enumerate(G.edges)} \n",
    "\n",
    "    connectivityLine = lambda i: f\"{i} {n}\"\n",
    "\n",
    "    with open(CCOFileName, 'w') as f:\n",
    "\n",
    "        f.write(\"*Tree\\n\")\n",
    "        f.write(\"Tree info blablabla\\n\\n\")\n",
    "\n",
    "        f.write(\"*Vessels\\n\")\n",
    "        f.write(f\"{G.number_of_edges()}\\n\")\n",
    "        f.write(\"\\n\".join(vesselLine(i,v) for i,v in edges.items()))\n",
    "        f.write(\"\\n\\n\")\n",
    "\n",
    "        f.write(\"*Connectivity\\n\")\n",
    "        f.write(\"\\n\".join())\n",
    "\n"
   ]
  }
 ],
 "metadata": {
  "kernelspec": {
   "display_name": "Python 3",
   "language": "python",
   "name": "python3"
  },
  "language_info": {
   "codemirror_mode": {
    "name": "ipython",
    "version": 3
   },
   "file_extension": ".py",
   "mimetype": "text/x-python",
   "name": "python",
   "nbconvert_exporter": "python",
   "pygments_lexer": "ipython3",
   "version": "3.10.6"
  },
  "orig_nbformat": 4
 },
 "nbformat": 4,
 "nbformat_minor": 2
}
