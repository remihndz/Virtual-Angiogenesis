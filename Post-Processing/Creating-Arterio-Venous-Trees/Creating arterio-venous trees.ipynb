{
 "cells": [
  {
   "cell_type": "code",
   "execution_count": 135,
   "id": "ff44e7b2",
   "metadata": {},
   "outputs": [],
   "source": [
    "import pandas as pd\n",
    "import numpy as np\n",
    "import matplotlib.pyplot as plt\n",
    "import seaborn as sns\n",
    "import sys \n",
    "from scipy.linalg import solve"
   ]
  },
  {
   "cell_type": "code",
   "execution_count": 136,
   "id": "b3db3ead",
   "metadata": {},
   "outputs": [],
   "source": [
    "CCOFile = 'stage_2.cco'"
   ]
  },
  {
   "cell_type": "code",
   "execution_count": 137,
   "id": "d1a797e2",
   "metadata": {},
   "outputs": [],
   "source": [
    "def Viscosity(d, hd=0.45):\n",
    "    mu045 = 220*np.exp(-1.3*d) + 3.2 - 2.44*np.exp(-0.06*d*0.645)\n",
    "    C = (0.8 + np.exp(-0.075*d))*(-1+(1+10**-11*(d)**12)**-1)+(1+10**-11*(d)**12)**-1\n",
    "    return 1 + (mu045-1)*((1-hd)**C-1)/((1-0.45)**C-1)"
   ]
  },
  {
   "cell_type": "code",
   "execution_count": 138,
   "id": "54cec6a4",
   "metadata": {},
   "outputs": [],
   "source": [
    "def ReadCCO(CCOFile):\n",
    "    \n",
    "    SegmentsData = []\n",
    "    DistalNodes  = dict()\n",
    "    \n",
    "    nodeName = -1\n",
    "\n",
    "    with open(CCOFile, 'r') as f:\n",
    "        f.readline()\n",
    "        f.readline()\n",
    "        f.readline()\n",
    "        f.readline()\n",
    "\n",
    "        nVessels = int(f.readline())\n",
    "\n",
    "        for i in range(nVessels):\n",
    "            \n",
    "            row = (f.readline()).split()\n",
    "       \n",
    "            if int(row[-1]) >= -2:\n",
    "                \n",
    "                nodeName+=1\n",
    "                DistalNodes[int(row[0])] = nodeName\n",
    "                \n",
    "                SegmentsData.append([int(row[0]),\n",
    "                                     np.array([float(x) for x in row[1:4]])*1e4, \n",
    "                                     np.array([float(x) for x in row[4:7]])*1e4,\n",
    "                                     float(row[12])*1e4,\n",
    "                                     float(row[13]),\n",
    "                                     nodeName,\n",
    "                                     int(row[-1])]) # Id, xProx, xDist, radius, initial flow, distalNode, stage\n",
    "        \n",
    "        df = pd.DataFrame(SegmentsData, columns=['Id', 'xProx', 'xDist', 'Radius', 'InitFlow','DistalNode','Stage'])\n",
    "        df['Inlet'] = False\n",
    "        df['Outlet'] = False\n",
    "        df = df.set_index('Id')\n",
    "        \n",
    "        f.readline()\n",
    "        f.readline()\n",
    "        \n",
    "        NodesConnections = []\n",
    "        SegNewName = -1\n",
    "        for i in range(nVessels):\n",
    "            row = (f.readline()).split()\n",
    "            SegmentId, ParentId, BranchesIds = int(row[0]), int(row[1]), [int(x) for x in row[2:]]\n",
    "\n",
    "            if SegmentId in DistalNodes:    \n",
    "                ProximalNode = DistalNodes[SegmentId]\n",
    "                for connection in BranchesIds:\n",
    "                    DistalNode = DistalNodes[connection]\n",
    "                    SegNewName +=1\n",
    "                    NodesConnections.append((ProximalNode, DistalNode, SegNewName, connection))\n",
    "                    \n",
    "                \n",
    "                if not BranchesIds:\n",
    "                    df.at[SegmentId, 'Outlet'] = True\n",
    "                \n",
    "                if not ParentId in DistalNodes: # Inlet node, need to add the proximal node to the tree\n",
    "                    df.at[SegmentId, 'Inlet'] = True\n",
    "                    nodeName+=1\n",
    "                    SegNewName +=1\n",
    "                    NodesConnections.append((nodeName, DistalNodes[SegmentId], SegNewName, SegmentId))\n",
    "\n",
    "    ConnectivityMatrix = np.zeros((nodeName+1, len(SegmentsData)))\n",
    "    Radii  = np.zeros((len(SegmentsData),))\n",
    "    Length = np.zeros((len(SegmentsData),))\n",
    "    df['SegName'] = df.index\n",
    "    df['Id'] = df.index\n",
    "    D = np.zeros((nodeName+1,nodeName+1)) # Decision matrix\n",
    "\n",
    "    for proxNode, distNode, SegmentName, SegmentId in NodesConnections:\n",
    "        \n",
    "        ConnectivityMatrix[proxNode, SegmentName] = 1\n",
    "        ConnectivityMatrix[distNode, SegmentName] = -1\n",
    "        Radii[SegmentName] = df.at[SegmentId, 'Radius']\n",
    "        xProx, xDist = df.at[SegmentId, 'xProx'], df.at[SegmentId, 'xDist']\n",
    "        Length[SegmentName] = sum([(xProx[i]-xDist[i])**2 for i in range(3)])**.5\n",
    "        \n",
    "        df.at[SegmentId, 'SegName'] = SegmentName\n",
    "        if df.at[SegmentId, 'Inlet']:\n",
    "            D[proxNode, proxNode] = 1\n",
    "            print('The inlet is at node:',proxNode)\n",
    "        elif df.at[SegmentId, 'Outlet']:\n",
    "            D[distNode, distNode] = -1\n",
    "    \n",
    "    df = df.set_index('SegName')\n",
    "    \n",
    "    return ConnectivityMatrix.T, Radii, Length, D, df"
   ]
  },
  {
   "cell_type": "code",
   "execution_count": 139,
   "id": "3cf016ac",
   "metadata": {},
   "outputs": [
    {
     "name": "stdout",
     "output_type": "stream",
     "text": [
      "The inlet is at node: 4015\n"
     ]
    }
   ],
   "source": [
    "Connectivity, Radii, Length, D, df = ReadCCO(CCOFile)"
   ]
  },
  {
   "cell_type": "code",
   "execution_count": 187,
   "id": "5b4068a6",
   "metadata": {},
   "outputs": [],
   "source": [
    "narcs, nnodes = Connectivity.shape\n",
    "R = np.zeros((narcs,narcs))\n",
    "for i in range(narcs):\n",
    "    r,l = Radii[i], Length[i]\n",
    "    mu  = Viscosity(2*r) \n",
    "    R[i,i] = 8.0*mu*l/(np.pi*(r**4))"
   ]
  },
  {
   "cell_type": "code",
   "execution_count": 188,
   "id": "37a7d578",
   "metadata": {},
   "outputs": [],
   "source": [
    "# Add the boundary conditions\n",
    "qperf = 0.3 # muL/min\n",
    "qcap  = 0.1 # muL/min\n",
    "\n",
    "# RHS for flow rates: qbar = qperf if inlet node, -qcap otherwise\n",
    "qbar = np.ones((nnodes,)) # Flow rate at nodes\n",
    "qbar = np.matmul(D,qbar)\n",
    "qbar[qbar>0] *= qperf\n",
    "qbar[qbar<0] *= qcap\n",
    "\n",
    "pbar = np.ones((nnodes,))\n",
    "pbar = D.dot(pbar)\n",
    "pbar[pbar>0] = 25\n",
    "pbar[pbar<0] = 15"
   ]
  },
  {
   "cell_type": "code",
   "execution_count": 189,
   "id": "a3d6f85e",
   "metadata": {},
   "outputs": [],
   "source": [
    "# Solve the system\n",
    "M = np.block([[\n",
    "    R, -Connectivity],\n",
    "    [Connectivity.T, D]])\n",
    "      \n",
    "RHS = np.concatenate([np.zeros(narcs,), qbar+pbar])\n",
    "x = solve(M,RHS)\n",
    "f,p = np.abs(x[:narcs]), x[narcs:]\n",
    "dp  = np.abs(Connectivity.dot(p))"
   ]
  },
  {
   "cell_type": "code",
   "execution_count": 190,
   "id": "a955742b",
   "metadata": {},
   "outputs": [
    {
     "data": {
      "text/plain": [
       "<AxesSubplot:xlabel='Radius', ylabel='InitFlow'>"
      ]
     },
     "execution_count": 190,
     "metadata": {},
     "output_type": "execute_result"
    },
    {
     "data": {
      "image/png": "[encoded data removed]",
      "text/plain": [
       "<Figure size 864x288 with 3 Axes>"
      ]
     },
     "metadata": {
      "needs_background": "light"
     },
     "output_type": "display_data"
    }
   ],
   "source": [
    "df['Flow'] = f\n",
    "df['PressureDrop'] = dp \n",
    "\n",
    "for i in range(f.shape[0]):\n",
    "    df.at[i,'Flow'] = f[i]\n",
    "    df.at[i,'PressureDrop'] = dp[i]\n",
    "\n",
    "fig, axes = plt.subplots(1,3, figsize=(12,4))\n",
    "sns.scatterplot(data=df, x='Radius', y='Flow', ax=axes[0])\n",
    "sns.scatterplot(data=df, x='Radius', y='PressureDrop', ax=axes[2])\n",
    "sns.scatterplot(data=df, x='Radius', y='InitFlow', ax=axes[1])"
   ]
  },
  {
   "cell_type": "code",
   "execution_count": 191,
   "id": "0c3d4c00",
   "metadata": {},
   "outputs": [
    {
     "data": {
      "text/plain": [
       "38.81032725470554"
      ]
     },
     "execution_count": 191,
     "metadata": {},
     "output_type": "execute_result"
    }
   ],
   "source": [
    "f[2]"
   ]
  }
 ],
 "metadata": {
  "kernelspec": {
   "display_name": "Python 3 (ipykernel)",
   "language": "python",
   "name": "python3"
  },
  "language_info": {
   "codemirror_mode": {
    "name": "ipython",
    "version": 3
   },
   "file_extension": ".py",
   "mimetype": "text/x-python",
   "name": "python",
   "nbconvert_exporter": "python",
   "pygments_lexer": "ipython3",
   "version": "3.8.10"
  }
 },
 "nbformat": 4,
 "nbformat_minor": 5
}
