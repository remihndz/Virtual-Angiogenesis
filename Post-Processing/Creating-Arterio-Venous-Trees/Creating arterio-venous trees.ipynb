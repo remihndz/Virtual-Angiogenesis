{
 "cells": [
  {
   "cell_type": "code",
   "execution_count": 2,
   "id": "ff44e7b2",
   "metadata": {},
   "outputs": [],
   "source": [
    "import pandas as pd\n",
    "import numpy as np\n",
    "import matplotlib.pyplot as plt\n",
    "import seaborn as sns\n",
    "import sys \n",
    "from scipy.linalg import solve"
   ]
  },
  {
   "cell_type": "code",
   "execution_count": 3,
   "id": "b3db3ead",
   "metadata": {},
   "outputs": [],
   "source": [
    "CCOFile = 'stage_2.cco'"
   ]
  },
  {
   "cell_type": "code",
   "execution_count": 4,
   "id": "d1a797e2",
   "metadata": {},
   "outputs": [],
   "source": [
    "def Viscosity(d, hd=0.45):\n",
    "    mu045 = 220*np.exp(-1.3*d) + 3.2 - 2.44*np.exp(-0.06*d*0.645)\n",
    "    C = (0.8 + np.exp(-0.075*d))*(-1+(1+10**-11*(d)**12)**-1)+(1+10**-11*(d)**12)**-1\n",
    "    return 1 + (mu045-1)*((1-hd)**C-1)/((1-0.45)**C-1)"
   ]
  },
  {
   "cell_type": "code",
   "execution_count": 5,
   "id": "54cec6a4",
   "metadata": {},
   "outputs": [],
   "source": [
    "def ReadCCO(CCOFile):\n",
    "    \n",
    "    SegmentsData = []\n",
    "    DistalNodes  = dict()\n",
    "    \n",
    "    nodeName = -1\n",
    "\n",
    "    with open(CCOFile, 'r') as f:\n",
    "        f.readline()\n",
    "        f.readline()\n",
    "        f.readline()\n",
    "        f.readline()\n",
    "\n",
    "        nVessels = int(f.readline())\n",
    "\n",
    "        for i in range(nVessels):\n",
    "            \n",
    "            row = (f.readline()).split()\n",
    "       \n",
    "            if int(row[-1]) > -2:\n",
    "                \n",
    "                nodeName+=1\n",
    "                DistalNodes[int(row[0])] = nodeName\n",
    "                \n",
    "                SegmentsData.append([int(row[0]),\n",
    "                                     np.array([float(x) for x in row[1:4]])*1e4, \n",
    "                                     np.array([float(x) for x in row[4:7]])*1e4,\n",
    "                                     float(row[12])*1e4,\n",
    "                                     float(row[13]),\n",
    "                                     nodeName,\n",
    "                                     int(row[-1])]) # Id, xProx, xDist, radius, initial flow, distalNode, stage\n",
    "        \n",
    "        df = pd.DataFrame(SegmentsData, columns=['Id', 'xProx', 'xDist', 'Radius', 'InitFlow','DistalNode','Stage'])\n",
    "        df['Inlet'] = False\n",
    "        df['Outlet'] = False\n",
    "        df = df.set_index('Id')\n",
    "        df['ParentId'] = -1\n",
    "        df['BranchesId'] = [[] for i in range(df.shape[0])]\n",
    "    \n",
    "        f.readline()\n",
    "        f.readline()\n",
    "        \n",
    "        NodesConnections = []\n",
    "        SegNewName = -1\n",
    "        for i in range(nVessels):\n",
    "            row = (f.readline()).split()\n",
    "            SegmentId, ParentId, BranchesIds = int(row[0]), int(row[1]), [int(x) for x in row[2:]]\n",
    "\n",
    "            if SegmentId in DistalNodes:    \n",
    "                ProximalNode = DistalNodes[SegmentId]\n",
    "                branchesId = []\n",
    "                for connection in BranchesIds:\n",
    "                    DistalNode = DistalNodes[connection]\n",
    "                    SegNewName +=1\n",
    "                    NodesConnections.append((ProximalNode, DistalNode, SegNewName, connection))\n",
    "                    branchesId.append(connection)\n",
    "                df.at[SegmentId, 'BranchesId'] = branchesId    \n",
    "                \n",
    "                if not BranchesIds:\n",
    "                    df.at[SegmentId, 'Outlet'] = True\n",
    "                \n",
    "                if not ParentId in DistalNodes: # Inlet node, need to add the proximal node to the tree\n",
    "                    df.at[SegmentId, 'Inlet'] = True\n",
    "                    nodeName+=1\n",
    "                    SegNewName +=1\n",
    "                    NodesConnections.append((nodeName, DistalNodes[SegmentId], SegNewName, SegmentId))\n",
    "                else:\n",
    "                    df.at[SegmentId, 'ParentId'] = ParentId\n",
    "\n",
    "    \n",
    "     ## Gives each inlet and its downstream branches a number\n",
    "    def AssignBranchNumberToDownstreamVessels(InletIdx, branchNumber):\n",
    "        \n",
    "        # branchNumber = df.at[InletIdx, 'BranchNumber']\n",
    "        branches = df.at[InletIdx, 'BranchesId']\n",
    "        \n",
    "        for branchId in branches:\n",
    "            branchIdx = df[df.Id==branchId].index[0]\n",
    "            df.at[branchIdx, 'BranchNumber'] = branchNumber\n",
    "            AssignBranchNumberToDownstreamVessels(branchIdx, branchNumber)       \n",
    "        \n",
    "    df['BranchNumber'] = -1\n",
    "    for i,row in enumerate(df[df.Inlet].iterrows()):\n",
    "        df.at[row[0], 'BranchNumber'] = i\n",
    "        \n",
    "        AssignBranchNumberToDownstreamVessels(row[0],i)\n",
    "                    \n",
    "    \n",
    "    \n",
    "    ## Create the matrices for the solver\n",
    "    ConnectivityMatrix = np.zeros((nodeName+1, len(SegmentsData)))\n",
    "    Radii  = np.zeros((len(SegmentsData),))\n",
    "    Length = np.zeros((len(SegmentsData),))\n",
    "    df['SegName'] = df.index\n",
    "    df['Id'] = df.index\n",
    "    D = np.zeros((nodeName+1,nodeName+1)) # Decision matrix\n",
    "\n",
    "    for proxNode, distNode, SegmentName, SegmentId in NodesConnections:\n",
    "        \n",
    "        ConnectivityMatrix[proxNode, SegmentName] = 1\n",
    "        ConnectivityMatrix[distNode, SegmentName] = -1\n",
    "        Radii[SegmentName] = df.at[SegmentId, 'Radius']\n",
    "        xProx, xDist = df.at[SegmentId, 'xProx'], df.at[SegmentId, 'xDist']\n",
    "        Length[SegmentName] = sum([(xProx[i]-xDist[i])**2 for i in range(3)])**.5\n",
    "        \n",
    "        df.at[SegmentId, 'SegName'] = SegmentName\n",
    "        if df.at[SegmentId, 'Inlet']:\n",
    "            D[proxNode, proxNode] = 1\n",
    "        elif df.at[SegmentId, 'Outlet']:\n",
    "            D[distNode, distNode] = -1\n",
    "    \n",
    "    df = df.set_index('SegName')\n",
    "    \n",
    "\n",
    "   \n",
    "        \n",
    "    return ConnectivityMatrix.T, Radii, Length, D, df"
   ]
  },
  {
   "cell_type": "code",
   "execution_count": 6,
   "id": "3cf016ac",
   "metadata": {},
   "outputs": [
    {
     "ename": "AttributeError",
     "evalue": "'DataFrame' object has no attribute 'Id'",
     "output_type": "error",
     "traceback": [
      "\u001b[0;31m---------------------------------------------------------------------------\u001b[0m",
      "\u001b[0;31mAttributeError\u001b[0m                            Traceback (most recent call last)",
      "Input \u001b[0;32mIn [6]\u001b[0m, in \u001b[0;36m<cell line: 1>\u001b[0;34m()\u001b[0m\n\u001b[0;32m----> 1\u001b[0m Connectivity, Radii, Length, D, df \u001b[38;5;241m=\u001b[39m \u001b[43mReadCCO\u001b[49m\u001b[43m(\u001b[49m\u001b[43mCCOFile\u001b[49m\u001b[43m)\u001b[49m\n",
      "Input \u001b[0;32mIn [5]\u001b[0m, in \u001b[0;36mReadCCO\u001b[0;34m(CCOFile)\u001b[0m\n\u001b[1;32m     83\u001b[0m \u001b[38;5;28;01mfor\u001b[39;00m i,row \u001b[38;5;129;01min\u001b[39;00m \u001b[38;5;28menumerate\u001b[39m(df[df\u001b[38;5;241m.\u001b[39mInlet]\u001b[38;5;241m.\u001b[39miterrows()):\n\u001b[1;32m     84\u001b[0m     df\u001b[38;5;241m.\u001b[39mat[row[\u001b[38;5;241m0\u001b[39m], \u001b[38;5;124m'\u001b[39m\u001b[38;5;124mBranchNumber\u001b[39m\u001b[38;5;124m'\u001b[39m] \u001b[38;5;241m=\u001b[39m i\n\u001b[0;32m---> 86\u001b[0m     \u001b[43mAssignBranchNumberToDownstreamVessels\u001b[49m\u001b[43m(\u001b[49m\u001b[43mrow\u001b[49m\u001b[43m[\u001b[49m\u001b[38;5;241;43m0\u001b[39;49m\u001b[43m]\u001b[49m\u001b[43m,\u001b[49m\u001b[43mi\u001b[49m\u001b[43m)\u001b[49m\n\u001b[1;32m     90\u001b[0m \u001b[38;5;66;03m## Create the matrices for the solver\u001b[39;00m\n\u001b[1;32m     91\u001b[0m ConnectivityMatrix \u001b[38;5;241m=\u001b[39m np\u001b[38;5;241m.\u001b[39mzeros((nodeName\u001b[38;5;241m+\u001b[39m\u001b[38;5;241m1\u001b[39m, \u001b[38;5;28mlen\u001b[39m(SegmentsData)))\n",
      "Input \u001b[0;32mIn [5]\u001b[0m, in \u001b[0;36mReadCCO.<locals>.AssignBranchNumberToDownstreamVessels\u001b[0;34m(InletIdx, branchNumber)\u001b[0m\n\u001b[1;32m     75\u001b[0m branches \u001b[38;5;241m=\u001b[39m df\u001b[38;5;241m.\u001b[39mat[InletIdx, \u001b[38;5;124m'\u001b[39m\u001b[38;5;124mBranchesId\u001b[39m\u001b[38;5;124m'\u001b[39m]\n\u001b[1;32m     77\u001b[0m \u001b[38;5;28;01mfor\u001b[39;00m branchId \u001b[38;5;129;01min\u001b[39;00m branches:\n\u001b[0;32m---> 78\u001b[0m     branchIdx \u001b[38;5;241m=\u001b[39m df[\u001b[43mdf\u001b[49m\u001b[38;5;241;43m.\u001b[39;49m\u001b[43mId\u001b[49m\u001b[38;5;241m==\u001b[39mbranchId]\u001b[38;5;241m.\u001b[39mindex[\u001b[38;5;241m0\u001b[39m]\n\u001b[1;32m     79\u001b[0m     df\u001b[38;5;241m.\u001b[39mat[branchIdx, \u001b[38;5;124m'\u001b[39m\u001b[38;5;124mBranchNumber\u001b[39m\u001b[38;5;124m'\u001b[39m] \u001b[38;5;241m=\u001b[39m branchNumber\n\u001b[1;32m     80\u001b[0m     AssignBranchNumberToDownstreamVessels(branchIdx, branchNumber)\n",
      "File \u001b[0;32m~/.local/lib/python3.8/site-packages/pandas/core/generic.py:5575\u001b[0m, in \u001b[0;36mNDFrame.__getattr__\u001b[0;34m(self, name)\u001b[0m\n\u001b[1;32m   5568\u001b[0m \u001b[38;5;28;01mif\u001b[39;00m (\n\u001b[1;32m   5569\u001b[0m     name \u001b[38;5;129;01mnot\u001b[39;00m \u001b[38;5;129;01min\u001b[39;00m \u001b[38;5;28mself\u001b[39m\u001b[38;5;241m.\u001b[39m_internal_names_set\n\u001b[1;32m   5570\u001b[0m     \u001b[38;5;129;01mand\u001b[39;00m name \u001b[38;5;129;01mnot\u001b[39;00m \u001b[38;5;129;01min\u001b[39;00m \u001b[38;5;28mself\u001b[39m\u001b[38;5;241m.\u001b[39m_metadata\n\u001b[1;32m   5571\u001b[0m     \u001b[38;5;129;01mand\u001b[39;00m name \u001b[38;5;129;01mnot\u001b[39;00m \u001b[38;5;129;01min\u001b[39;00m \u001b[38;5;28mself\u001b[39m\u001b[38;5;241m.\u001b[39m_accessors\n\u001b[1;32m   5572\u001b[0m     \u001b[38;5;129;01mand\u001b[39;00m \u001b[38;5;28mself\u001b[39m\u001b[38;5;241m.\u001b[39m_info_axis\u001b[38;5;241m.\u001b[39m_can_hold_identifiers_and_holds_name(name)\n\u001b[1;32m   5573\u001b[0m ):\n\u001b[1;32m   5574\u001b[0m     \u001b[38;5;28;01mreturn\u001b[39;00m \u001b[38;5;28mself\u001b[39m[name]\n\u001b[0;32m-> 5575\u001b[0m \u001b[38;5;28;01mreturn\u001b[39;00m \u001b[38;5;28;43mobject\u001b[39;49m\u001b[38;5;241;43m.\u001b[39;49m\u001b[38;5;21;43m__getattribute__\u001b[39;49m\u001b[43m(\u001b[49m\u001b[38;5;28;43mself\u001b[39;49m\u001b[43m,\u001b[49m\u001b[43m \u001b[49m\u001b[43mname\u001b[49m\u001b[43m)\u001b[49m\n",
      "\u001b[0;31mAttributeError\u001b[0m: 'DataFrame' object has no attribute 'Id'"
     ]
    }
   ],
   "source": [
    "Connectivity, Radii, Length, D, df = ReadCCO(CCOFile)"
   ]
  },
  {
   "cell_type": "code",
   "execution_count": 7,
   "id": "5b4068a6",
   "metadata": {},
   "outputs": [
    {
     "ename": "NameError",
     "evalue": "name 'Connectivity' is not defined",
     "output_type": "error",
     "traceback": [
      "\u001b[0;31m---------------------------------------------------------------------------\u001b[0m",
      "\u001b[0;31mNameError\u001b[0m                                 Traceback (most recent call last)",
      "Input \u001b[0;32mIn [7]\u001b[0m, in \u001b[0;36m<cell line: 1>\u001b[0;34m()\u001b[0m\n\u001b[0;32m----> 1\u001b[0m narcs, nnodes \u001b[38;5;241m=\u001b[39m \u001b[43mConnectivity\u001b[49m\u001b[38;5;241m.\u001b[39mshape\n\u001b[1;32m      2\u001b[0m R \u001b[38;5;241m=\u001b[39m np\u001b[38;5;241m.\u001b[39mzeros((narcs,narcs))\n\u001b[1;32m      3\u001b[0m \u001b[38;5;28;01mfor\u001b[39;00m i \u001b[38;5;129;01min\u001b[39;00m \u001b[38;5;28mrange\u001b[39m(narcs):\n",
      "\u001b[0;31mNameError\u001b[0m: name 'Connectivity' is not defined"
     ]
    }
   ],
   "source": [
    "narcs, nnodes = Connectivity.shape\n",
    "R = np.zeros((narcs,narcs))\n",
    "for i in range(narcs):\n",
    "    r,l = Radii[i], Length[i]\n",
    "    mu  = Viscosity(2*r) \n",
    "    R[i,i] = 8.0*mu*l/(np.pi*(r**4))"
   ]
  },
  {
   "cell_type": "code",
   "execution_count": null,
   "id": "37a7d578",
   "metadata": {},
   "outputs": [],
   "source": [
    "# Add the boundary conditions\n",
    "qperf = 0.3 # muL/min\n",
    "qcap  = 0.1 # muL/min\n",
    "\n",
    "# RHS for flow rates: qbar = qperf if inlet node, -qcap otherwise\n",
    "qbar = np.ones((nnodes,)) # Flow rate at nodes\n",
    "qbar = np.matmul(D,qbar)\n",
    "qbar[qbar>0] *= qperf\n",
    "qbar[qbar<0] *= qcap\n",
    "\n",
    "pbar = np.ones((nnodes,))\n",
    "pbar = D.dot(pbar)\n",
    "pbar[pbar>0] = 25\n",
    "pbar[pbar<0] = 15"
   ]
  },
  {
   "cell_type": "code",
   "execution_count": null,
   "id": "a3d6f85e",
   "metadata": {},
   "outputs": [],
   "source": [
    "# Solve the system\n",
    "print(Connectivity.shape, R.shape, D.shape)\n",
    "M = np.block([[\n",
    "    R, -Connectivity],\n",
    "    [Connectivity.T, D]])\n",
    "      \n",
    "RHS = np.concatenate([np.zeros(narcs,), qbar+pbar])\n",
    "x = solve(M,RHS)\n",
    "f,p = np.abs(x[:narcs]), x[narcs:]\n",
    "dp  = np.abs(Connectivity.dot(p))"
   ]
  },
  {
   "cell_type": "code",
   "execution_count": null,
   "id": "a955742b",
   "metadata": {},
   "outputs": [],
   "source": [
    "df['Flow'] = f\n",
    "df['PressureDrop'] = dp \n",
    "\n",
    "for i in range(f.shape[0]):\n",
    "    df.at[i,'Flow'] = f[i]\n",
    "    df.at[i,'PressureDrop'] = dp[i]\n",
    "\n",
    "fig, axes = plt.subplots(1,3, figsize=(16,4))\n",
    "for ax in axes:\n",
    "    ax.set(yscale='log')\n",
    "sns.scatterplot(data=df, x='Radius', y='Flow', hue='BranchNumber', ax=axes[0])\n",
    "sns.scatterplot(data=df, x='Radius', y='InitFlow', hue='BranchNumber', ax=axes[1])\n",
    "sns.scatterplot(data=df, x='Radius', y='PressureDrop' , hue='BranchNumber', ax=axes[2])"
   ]
  },
  {
   "cell_type": "code",
   "execution_count": null,
   "id": "db752483",
   "metadata": {},
   "outputs": [],
   "source": [
    "Tot = 0\n",
    "for i in range(10):\n",
    "    termCap = df[(df.Outlet) & (df.BranchNumber==i)].shape[0]\n",
    "    Tot +=termCap\n",
    "    print(f'Branch {i} has {termCap} terminal capillaries.')\n",
    "print(f'For a total of {Tot} terminal capillaries, where it should be {df[df.Outlet].shape[0]}.')"
   ]
  }
 ],
 "metadata": {
  "kernelspec": {
   "display_name": "Python 3 (ipykernel)",
   "language": "python",
   "name": "python3"
  },
  "language_info": {
   "codemirror_mode": {
    "name": "ipython",
    "version": 3
   },
   "file_extension": ".py",
   "mimetype": "text/x-python",
   "name": "python",
   "nbconvert_exporter": "python",
   "pygments_lexer": "ipython3",
   "version": "3.8.10"
  }
 },
 "nbformat": 4,
 "nbformat_minor": 5
}
